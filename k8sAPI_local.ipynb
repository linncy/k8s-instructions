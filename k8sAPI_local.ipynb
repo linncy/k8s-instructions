{
 "cells": [
  {
   "cell_type": "code",
   "execution_count": 1,
   "metadata": {},
   "outputs": [
    {
     "name": "stderr",
     "output_type": "stream",
     "text": [
      "/usr/lib/python3/dist-packages/requests/__init__.py:80: RequestsDependencyWarning: urllib3 (1.24.1) or chardet (3.0.4) doesn't match a supported version!\n",
      "  RequestsDependencyWarning)\n"
     ]
    }
   ],
   "source": [
    "from kubernetes import client, config, watch\n",
    "config.load_kube_config()\n",
    "v1=client.CoreV1Api()"
   ]
  },
  {
   "cell_type": "code",
   "execution_count": 2,
   "metadata": {},
   "outputs": [
    {
     "name": "stdout",
     "output_type": "stream",
     "text": [
      "10.244.2.15\tdefault\tk8stb.mysql-deployment-5bc5f8cdf9-54mwt\n",
      "10.244.1.16\tdefault\tk8stb.webapp-deployment-7bdf8c7cfb-2jxb9\n",
      "10.244.2.19\tdefault\tk8stb.webapp-deployment-7bdf8c7cfb-2s7q5\n",
      "10.244.1.14\tdefault\tk8stb.webapp-deployment-7bdf8c7cfb-67ljh\n",
      "10.244.2.17\tdefault\tk8stb.webapp-deployment-7bdf8c7cfb-79j57\n",
      "10.244.1.15\tdefault\tk8stb.webapp-deployment-7bdf8c7cfb-97s6c\n",
      "10.244.2.18\tdefault\tk8stb.webapp-deployment-7bdf8c7cfb-d2q4k\n",
      "10.244.1.13\tdefault\tk8stb.webapp-deployment-7bdf8c7cfb-nf765\n",
      "10.244.2.20\tdefault\tk8stb.webapp-deployment-7bdf8c7cfb-pzq6k\n",
      "10.244.2.16\tdefault\tk8stb.webapp-deployment-7bdf8c7cfb-rs662\n",
      "10.244.1.12\tdefault\tk8stb.webapp-deployment-7bdf8c7cfb-x8lwl\n",
      "10.244.0.8\tkube-system\tcoredns-86c58d9df4-flpv2\n",
      "10.244.0.9\tkube-system\tcoredns-86c58d9df4-qvw77\n",
      "192.168.56.101\tkube-system\tetcd-master\n",
      "192.168.56.101\tkube-system\tkube-apiserver-master\n",
      "192.168.56.101\tkube-system\tkube-controller-manager-master\n",
      "192.168.56.102\tkube-system\tkube-flannel-ds-amd64-n9fjn\n",
      "192.168.56.101\tkube-system\tkube-flannel-ds-amd64-spdlb\n",
      "192.168.56.103\tkube-system\tkube-flannel-ds-amd64-xrbkp\n",
      "192.168.56.101\tkube-system\tkube-proxy-khqnm\n",
      "192.168.56.102\tkube-system\tkube-proxy-sx5xr\n",
      "192.168.56.103\tkube-system\tkube-proxy-wvrv6\n",
      "192.168.56.101\tkube-system\tkube-scheduler-master\n"
     ]
    }
   ],
   "source": [
    "ret=v1.list_pod_for_all_namespaces(watch=False)\n",
    "for i in ret.items:\n",
    "    print(\"%s\\t%s\\t%s\" %(i.status.pod_ip, i.metadata.namespace, i.metadata.name))"
   ]
  },
  {
   "cell_type": "code",
   "execution_count": 3,
   "metadata": {},
   "outputs": [
    {
     "name": "stdout",
     "output_type": "stream",
     "text": [
      "Event: ADDED default\n",
      "Event: ADDED kube-public\n",
      "Event: ADDED kube-system\n",
      "Ended.\n"
     ]
    }
   ],
   "source": [
    "count = 10\n",
    "w = watch.Watch()\n",
    "for event in w.stream(v1.list_namespace, timeout_seconds=10):\n",
    "    print(\"Event: %s %s\" % (event['type'], event['object'].metadata.name))\n",
    "    count -= 1\n",
    "    if not count:\n",
    "        w.stop()\n",
    "print(\"Ended.\")"
   ]
  },
  {
   "cell_type": "code",
   "execution_count": 4,
   "metadata": {},
   "outputs": [
    {
     "name": "stdout",
     "output_type": "stream",
     "text": [
      "Supported APIs (* is preferred version):\n",
      "core                 v1\n",
      "coordination.k8s.io                      \n"
     ]
    }
   ],
   "source": [
    "print(\"Supported APIs (* is preferred version):\")\n",
    "print(\"%-20s %s\" %(\"core\", \",\".join(client.CoreApi().get_api_versions().versions)))\n",
    "for api in client.ApisApi().get_api_versions().groups:\n",
    "    versions = []\n",
    "    for v in api.versions:\n",
    "        name = \"\"\n",
    "        if v.version == api.preferred_version.version and len(api.versions) > 1:\n",
    "            name += \"*\"\n",
    "            name += v.version\n",
    "            versions.append(name)\n",
    "print(\"%-40s %s\" % (api.name, \",\".join(versions)))"
   ]
  },
  {
   "cell_type": "code",
   "execution_count": 5,
   "metadata": {},
   "outputs": [
    {
     "name": "stdout",
     "output_type": "stream",
     "text": [
      "Listing pods with their IPs:\n",
      "10.244.2.15\tdefault\tk8stb.mysql-deployment-5bc5f8cdf9-54mwt\n",
      "10.244.1.16\tdefault\tk8stb.webapp-deployment-7bdf8c7cfb-2jxb9\n",
      "10.244.2.19\tdefault\tk8stb.webapp-deployment-7bdf8c7cfb-2s7q5\n",
      "10.244.1.14\tdefault\tk8stb.webapp-deployment-7bdf8c7cfb-67ljh\n",
      "10.244.2.17\tdefault\tk8stb.webapp-deployment-7bdf8c7cfb-79j57\n",
      "10.244.1.15\tdefault\tk8stb.webapp-deployment-7bdf8c7cfb-97s6c\n",
      "10.244.2.18\tdefault\tk8stb.webapp-deployment-7bdf8c7cfb-d2q4k\n",
      "10.244.1.13\tdefault\tk8stb.webapp-deployment-7bdf8c7cfb-nf765\n",
      "10.244.2.20\tdefault\tk8stb.webapp-deployment-7bdf8c7cfb-pzq6k\n",
      "10.244.2.16\tdefault\tk8stb.webapp-deployment-7bdf8c7cfb-rs662\n",
      "10.244.1.12\tdefault\tk8stb.webapp-deployment-7bdf8c7cfb-x8lwl\n",
      "10.244.0.8\tkube-system\tcoredns-86c58d9df4-flpv2\n",
      "10.244.0.9\tkube-system\tcoredns-86c58d9df4-qvw77\n",
      "192.168.56.101\tkube-system\tetcd-master\n",
      "192.168.56.101\tkube-system\tkube-apiserver-master\n",
      "192.168.56.101\tkube-system\tkube-controller-manager-master\n",
      "192.168.56.102\tkube-system\tkube-flannel-ds-amd64-n9fjn\n",
      "192.168.56.101\tkube-system\tkube-flannel-ds-amd64-spdlb\n",
      "192.168.56.103\tkube-system\tkube-flannel-ds-amd64-xrbkp\n",
      "192.168.56.101\tkube-system\tkube-proxy-khqnm\n",
      "192.168.56.102\tkube-system\tkube-proxy-sx5xr\n",
      "192.168.56.103\tkube-system\tkube-proxy-wvrv6\n",
      "192.168.56.101\tkube-system\tkube-scheduler-master\n"
     ]
    }
   ],
   "source": [
    "print(\"Listing pods with their IPs:\")\n",
    "ret = v1.list_pod_for_all_namespaces(watch=False)\n",
    "for item in ret.items:\n",
    "    print(\"%s\\t%s\\t%s\" %(item.status.pod_ip,item.metadata.namespace,item.metadata.name))"
   ]
  },
  {
   "cell_type": "code",
   "execution_count": 6,
   "metadata": {},
   "outputs": [],
   "source": [
    "from __future__ import print_function\n",
    "import time\n",
    "import kubernetes.client\n",
    "from kubernetes.client.rest import ApiException\n",
    "from pprint import pprint\n",
    "configuration = kubernetes.client.Configuration()"
   ]
  },
  {
   "cell_type": "code",
   "execution_count": 7,
   "metadata": {},
   "outputs": [
    {
     "name": "stdout",
     "output_type": "stream",
     "text": [
      "{'api_version': 'apps/v1beta2',\n",
      " 'kind': 'Deployment',\n",
      " 'metadata': {'annotations': {'deployment.kubernetes.io/revision': '1',\n",
      "                              'kubectl.kubernetes.io/last-applied-configuration': '{\"apiVersion\":\"apps/v1\",\"kind\":\"Deployment\",\"metadata\":{\"annotations\":{},\"name\":\"k8stb.webapp-deployment\",\"namespace\":\"default\"},\"spec\":{\"replicas\":2,\"selector\":{\"matchLabels\":{\"app\":\"k8stb.webapp\"}},\"template\":{\"metadata\":{\"labels\":{\"app\":\"k8stb.webapp\"}},\"spec\":{\"containers\":[{\"env\":[{\"name\":\"DB_HOSTNAME\",\"value\":\"10.244.2.15\"},{\"name\":\"MYSQL_ROOT_PASSWORD\",\"value\":\"password\"},{\"name\":\"DB_PORT\",\"value\":\"3306\"}],\"image\":\"changyuan/k8stb.webapp\",\"name\":\"k8stb-webapp\",\"ports\":[{\"containerPort\":8080}]}]}}}}\\n'},\n",
      "              'cluster_name': None,\n",
      "              'creation_timestamp': None,\n",
      "              'deletion_grace_period_seconds': None,\n",
      "              'deletion_timestamp': None,\n",
      "              'finalizers': None,\n",
      "              'generate_name': None,\n",
      "              'generation': 1,\n",
      "              'initializers': None,\n",
      "              'labels': None,\n",
      "              'name': 'k8stb.webapp-deployment',\n",
      "              'namespace': 'default',\n",
      "              'owner_references': None,\n",
      "              'resource_version': None,\n",
      "              'self_link': '/apis/apps/v1beta2/namespaces/default/deployments/k8stb.webapp-deployment',\n",
      "              'uid': None},\n",
      " 'spec': {'min_ready_seconds': None,\n",
      "          'paused': None,\n",
      "          'progress_deadline_seconds': 600,\n",
      "          'replicas': 10,\n",
      "          'revision_history_limit': 10,\n",
      "          'selector': {'match_expressions': None,\n",
      "                       'match_labels': {'app': 'k8stb.webapp'}},\n",
      "          'strategy': {'rolling_update': {'max_surge': '25%',\n",
      "                                          'max_unavailable': '25%'},\n",
      "                       'type': 'RollingUpdate'},\n",
      "          'template': {'metadata': {'annotations': None,\n",
      "                                    'cluster_name': None,\n",
      "                                    'creation_timestamp': None,\n",
      "                                    'deletion_grace_period_seconds': None,\n",
      "                                    'deletion_timestamp': None,\n",
      "                                    'finalizers': None,\n",
      "                                    'generate_name': None,\n",
      "                                    'generation': None,\n",
      "                                    'initializers': None,\n",
      "                                    'labels': {'app': 'k8stb.webapp'},\n",
      "                                    'name': None,\n",
      "                                    'namespace': None,\n",
      "                                    'owner_references': None,\n",
      "                                    'resource_version': None,\n",
      "                                    'self_link': None,\n",
      "                                    'uid': None},\n",
      "                       'spec': {'active_deadline_seconds': None,\n",
      "                                'affinity': None,\n",
      "                                'automount_service_account_token': None,\n",
      "                                'containers': [{'args': None,\n",
      "                                                'command': None,\n",
      "                                                'env': [{'name': 'DB_HOSTNAME',\n",
      "                                                         'value': '10.244.2.15',\n",
      "                                                         'value_from': None},\n",
      "                                                        {'name': 'MYSQL_ROOT_PASSWORD',\n",
      "                                                         'value': 'password',\n",
      "                                                         'value_from': None},\n",
      "                                                        {'name': 'DB_PORT',\n",
      "                                                         'value': '3306',\n",
      "                                                         'value_from': None}],\n",
      "                                                'env_from': None,\n",
      "                                                'image': 'changyuan/k8stb.webapp',\n",
      "                                                'image_pull_policy': 'Always',\n",
      "                                                'lifecycle': None,\n",
      "                                                'liveness_probe': None,\n",
      "                                                'name': 'k8stb-webapp',\n",
      "                                                'ports': [{'container_port': 8080,\n",
      "                                                           'host_ip': None,\n",
      "                                                           'host_port': None,\n",
      "                                                           'name': None,\n",
      "                                                           'protocol': 'TCP'}],\n",
      "                                                'readiness_probe': None,\n",
      "                                                'resources': {'limits': None,\n",
      "                                                              'requests': None},\n",
      "                                                'security_context': None,\n",
      "                                                'stdin': None,\n",
      "                                                'stdin_once': None,\n",
      "                                                'termination_message_path': '/dev/termination-log',\n",
      "                                                'termination_message_policy': 'File',\n",
      "                                                'tty': None,\n",
      "                                                'volume_devices': None,\n",
      "                                                'volume_mounts': None,\n",
      "                                                'working_dir': None}],\n",
      "                                'dns_config': None,\n",
      "                                'dns_policy': 'ClusterFirst',\n",
      "                                'host_aliases': None,\n",
      "                                'host_ipc': None,\n",
      "                                'host_network': None,\n",
      "                                'host_pid': None,\n",
      "                                'hostname': None,\n",
      "                                'image_pull_secrets': None,\n",
      "                                'init_containers': None,\n",
      "                                'node_name': None,\n",
      "                                'node_selector': None,\n",
      "                                'priority': None,\n",
      "                                'priority_class_name': None,\n",
      "                                'readiness_gates': None,\n",
      "                                'restart_policy': 'Always',\n",
      "                                'runtime_class_name': None,\n",
      "                                'scheduler_name': 'default-scheduler',\n",
      "                                'security_context': {'fs_group': None,\n",
      "                                                     'run_as_group': None,\n",
      "                                                     'run_as_non_root': None,\n",
      "                                                     'run_as_user': None,\n",
      "                                                     'se_linux_options': None,\n",
      "                                                     'supplemental_groups': None,\n",
      "                                                     'sysctls': None},\n",
      "                                'service_account': None,\n",
      "                                'service_account_name': None,\n",
      "                                'share_process_namespace': None,\n",
      "                                'subdomain': None,\n",
      "                                'termination_grace_period_seconds': 30,\n",
      "                                'tolerations': None,\n",
      "                                'volumes': None}}},\n",
      " 'status': {'available_replicas': None,\n",
      "            'collision_count': None,\n",
      "            'conditions': None,\n",
      "            'observed_generation': None,\n",
      "            'ready_replicas': None,\n",
      "            'replicas': None,\n",
      "            'unavailable_replicas': None,\n",
      "            'updated_replicas': None}}\n"
     ]
    }
   ],
   "source": [
    "api_instance = kubernetes.client.AppsV1beta2Api(kubernetes.client.ApiClient(configuration))\n",
    "name = 'k8stb.webapp-deployment' # str | name of the Deployment\n",
    "namespace = 'default' # str | object name and auth scope, such as for teams and projects\n",
    "pretty = 'true' # str | If 'true', then the output is pretty printed. (optional)\n",
    "exact = True # bool | Should the export be exact.  Exact export maintains cluster-specific fields like 'Namespace'. (optional)\n",
    "export = True # bool | Should this value be exported.  Export strips fields that a user can not specify. (optional)\n",
    "\n",
    "try: \n",
    "    api_response = api_instance.read_namespaced_deployment(name, namespace, pretty=pretty, exact=exact, export=export)\n",
    "    pprint(api_response)\n",
    "except ApiException as e:\n",
    "    print(\"Exception when calling AppsV1beta2Api->read_namespaced_deployment: %s\\n\" % e)"
   ]
  },
  {
   "cell_type": "code",
   "execution_count": 8,
   "metadata": {},
   "outputs": [
    {
     "name": "stdout",
     "output_type": "stream",
     "text": [
      "{'api_version': 'apps/v1beta2',\n",
      " 'kind': 'Scale',\n",
      " 'metadata': {'annotations': None,\n",
      "              'cluster_name': None,\n",
      "              'creation_timestamp': datetime.datetime(2019, 1, 11, 4, 53, 19, tzinfo=tzlocal()),\n",
      "              'deletion_grace_period_seconds': None,\n",
      "              'deletion_timestamp': None,\n",
      "              'finalizers': None,\n",
      "              'generate_name': None,\n",
      "              'generation': None,\n",
      "              'initializers': None,\n",
      "              'labels': None,\n",
      "              'name': 'k8stb.webapp-deployment',\n",
      "              'namespace': 'default',\n",
      "              'owner_references': None,\n",
      "              'resource_version': '313665',\n",
      "              'self_link': '/apis/apps/v1beta2/namespaces/default/deployments/k8stb.webapp-deployment/scale',\n",
      "              'uid': 'd0cca7c0-155c-11e9-ad67-08002713c802'},\n",
      " 'spec': {'replicas': 10},\n",
      " 'status': {'replicas': 10,\n",
      "            'selector': {'app': 'k8stb.webapp'},\n",
      "            'target_selector': 'app=k8stb.webapp'}}\n"
     ]
    }
   ],
   "source": [
    "try: \n",
    "    api_response = api_instance.read_namespaced_deployment_scale(name, namespace, pretty=pretty)\n",
    "    body=api_response\n",
    "    pprint(api_response)\n",
    "except ApiException as e:\n",
    "    print(\"Exception when calling AppsV1beta2Api->read_namespaced_deployment_scale: %s\\n\" % e)"
   ]
  },
  {
   "cell_type": "code",
   "execution_count": 9,
   "metadata": {},
   "outputs": [
    {
     "name": "stdout",
     "output_type": "stream",
     "text": [
      "{'api_version': 'apps/v1beta2',\n",
      " 'kind': 'Scale',\n",
      " 'metadata': {'annotations': None,\n",
      "              'cluster_name': None,\n",
      "              'creation_timestamp': datetime.datetime(2019, 1, 11, 4, 53, 19, tzinfo=tzlocal()),\n",
      "              'deletion_grace_period_seconds': None,\n",
      "              'deletion_timestamp': None,\n",
      "              'finalizers': None,\n",
      "              'generate_name': None,\n",
      "              'generation': None,\n",
      "              'initializers': None,\n",
      "              'labels': None,\n",
      "              'name': 'k8stb.webapp-deployment',\n",
      "              'namespace': 'default',\n",
      "              'owner_references': None,\n",
      "              'resource_version': '319530',\n",
      "              'self_link': '/apis/apps/v1beta2/namespaces/default/deployments/k8stb.webapp-deployment/scale',\n",
      "              'uid': 'd0cca7c0-155c-11e9-ad67-08002713c802'},\n",
      " 'spec': {'replicas': 3},\n",
      " 'status': {'replicas': 10,\n",
      "            'selector': {'app': 'k8stb.webapp'},\n",
      "            'target_selector': 'app=k8stb.webapp'}}\n"
     ]
    }
   ],
   "source": [
    "body.spec.replicas=3\n",
    "try: \n",
    "    api_response = api_instance.replace_namespaced_deployment_scale(name, namespace, body, pretty=pretty)\n",
    "    pprint(api_response)\n",
    "except ApiException as e:\n",
    "    print(\"Exception when calling AppsV1beta2Api->replace_namespaced_deployment_scale: %s\\n\" % e)"
   ]
  },
  {
   "cell_type": "code",
   "execution_count": 12,
   "metadata": {},
   "outputs": [
    {
     "name": "stdout",
     "output_type": "stream",
     "text": [
      "Listing pods with their IPs:\n",
      "10.244.2.15\tdefault\tk8stb.mysql-deployment-5bc5f8cdf9-54mwt\n",
      "None\tdefault\tk8stb.webapp-deployment-7bdf8c7cfb-2jxb9\n",
      "10.244.1.14\tdefault\tk8stb.webapp-deployment-7bdf8c7cfb-67ljh\n",
      "10.244.2.17\tdefault\tk8stb.webapp-deployment-7bdf8c7cfb-79j57\n",
      "10.244.1.15\tdefault\tk8stb.webapp-deployment-7bdf8c7cfb-97s6c\n",
      "10.244.2.16\tdefault\tk8stb.webapp-deployment-7bdf8c7cfb-rs662\n",
      "10.244.1.12\tdefault\tk8stb.webapp-deployment-7bdf8c7cfb-x8lwl\n",
      "10.244.0.8\tkube-system\tcoredns-86c58d9df4-flpv2\n",
      "10.244.0.9\tkube-system\tcoredns-86c58d9df4-qvw77\n",
      "192.168.56.101\tkube-system\tetcd-master\n",
      "192.168.56.101\tkube-system\tkube-apiserver-master\n",
      "192.168.56.101\tkube-system\tkube-controller-manager-master\n",
      "192.168.56.102\tkube-system\tkube-flannel-ds-amd64-n9fjn\n",
      "192.168.56.101\tkube-system\tkube-flannel-ds-amd64-spdlb\n",
      "192.168.56.103\tkube-system\tkube-flannel-ds-amd64-xrbkp\n",
      "192.168.56.101\tkube-system\tkube-proxy-khqnm\n",
      "192.168.56.102\tkube-system\tkube-proxy-sx5xr\n",
      "192.168.56.103\tkube-system\tkube-proxy-wvrv6\n",
      "192.168.56.101\tkube-system\tkube-scheduler-master\n"
     ]
    }
   ],
   "source": [
    "print(\"Listing pods with their IPs:\")\n",
    "ret = v1.list_pod_for_all_namespaces(watch=False)\n",
    "for item in ret.items:\n",
    "    print(\"%s\\t%s\\t%s\" %(item.status.pod_ip,item.metadata.namespace,item.metadata.name))"
   ]
  },
  {
   "cell_type": "code",
   "execution_count": null,
   "metadata": {},
   "outputs": [],
   "source": []
  }
 ],
 "metadata": {
  "kernelspec": {
   "display_name": "Python 3",
   "language": "python",
   "name": "python3"
  },
  "language_info": {
   "codemirror_mode": {
    "name": "ipython",
    "version": 3
   },
   "file_extension": ".py",
   "mimetype": "text/x-python",
   "name": "python",
   "nbconvert_exporter": "python",
   "pygments_lexer": "ipython3",
   "version": "3.6.7"
  }
 },
 "nbformat": 4,
 "nbformat_minor": 2
}
